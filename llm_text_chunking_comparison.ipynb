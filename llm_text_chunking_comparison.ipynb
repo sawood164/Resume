{
 "cells": [
  {
   "cell_type": "markdown",
   "id": "header-cell",
   "metadata": {},
   "source": [
    "# Week 1.2: Foundations of AI - Quiz (Duration: 0-52 minutes)\n",
    "\n",
    "## Philosophical and Theoretical Foundations of Artificial Intelligence\n",
    "\n",
    "This notebook contains a comprehensive quiz covering the fundamental concepts and philosophical underpinnings of AI development, including theoretical frameworks and historical perspectives.\n",
    "\n",
    "---"
   ]
  },
  {
   "cell_type": "markdown",
   "id": "question-1",
   "metadata": {},
   "source": [
    "### Question 1: Philosophical Foundation of AI Development\n",
    "\n",
    "**Which of the following best reflects the philosophical foundation behind humanity's long-standing aspiration to build intelligent systems?**\n",
    "\n",
    "**A.** AI development was primarily driven by industrial revolution engineering goals.  \n",
    "**B.** The drive to create intelligent agents stems from ancient human desires to exert control and replicate intelligence.  \n",
    "**C.** AI emerged naturally from formal logic systems and automata theory.  \n",
    "**D.** Early computing systems incidentally led to AI through symbolic processing."
   ]
  },
  {
   "cell_type": "markdown",
   "id": "answer-1",
   "metadata": {},
   "source": [
    "**✅ Correct Answer: B**\n",
    "\n",
    "**Rationale:** The pursuit of intelligent agents aligns with deeper anthropological and philosophical motivations — the age-old human impulse to replicate and command intelligence.\n",
    "\n",
    "---"
   ]
  },
  {
   "cell_type": "markdown",
   "id": "question-2",
   "metadata": {},
   "source": [
    "### Question 2: No Free Lunch Theorem\n",
    "\n",
    "**Which conclusion most accurately aligns with the implications of the No Free Lunch theorem in machine learning?**\n",
    "\n",
    "**A.** Every algorithm achieves optimal performance given sufficient training data.  \n",
    "**B.** Model performance generalizes across tasks if architecture complexity is high.  \n",
    "**C.** No algorithm is universally superior; performance depends entirely on problem-specific data and assumptions.  \n",
    "**D.** Complex algorithms like deep neural networks outperform traditional models in all contexts."
   ]
  },
  {
   "cell_type": "markdown",
   "id": "answer-2",
   "metadata": {},
   "source": [
    "**✅ Correct Answer: C**\n",
    "\n",
    "**Rationale:** The No Free Lunch theorem asserts that no algorithm consistently outperforms others across all problems; effectiveness is contextually driven.\n",
    "\n",
    "---"
   ]
  },
  {
   "cell_type": "markdown",
   "id": "question-3",
   "metadata": {},
   "source": [
    "### Question 3: Interdisciplinary Innovation Challenges\n",
    "\n",
    "**The early rejection of support vector machines across academic disciplines highlights which of the following systemic challenges in interdisciplinary innovation?**\n",
    "\n",
    "**A.** Lack of consensus on statistical learning theory led to delayed adoption.  \n",
    "**B.** Absence of a defined computer science field created institutional barriers to novel algorithmic work.  \n",
    "**C.** Mathematical rigor was prioritized over practical performance in early algorithm evaluation.  \n",
    "**D.** Engineering journals favored hardware innovations over theoretical models."
   ]
  },
  {
   "cell_type": "markdown",
   "id": "answer-3",
   "metadata": {},
   "source": [
    "**✅ Correct Answer: B**\n",
    "\n",
    "**Rationale:** In the absence of computer science as a distinct academic discipline, early machine learning research faced institutional misalignment across math, engineering, and biology.\n",
    "\n",
    "---"
   ]
  },
  {
   "cell_type": "markdown",
   "id": "question-4",
   "metadata": {},
   "source": [
    "### Question 4: Pre-trained Models and Fine-tuning\n",
    "\n",
    "**Why is it considered insufficient to adopt pre-trained models without further fine-tuning or experimentation?**\n",
    "\n",
    "**A.** Pre-trained models lack adaptability to changing deployment environments.  \n",
    "**B.** Fine-tuning provides interpretability benefits that pre-trained models lack.  \n",
    "**C.** Discovering optimal solutions often requires iterative experimentation and task-specific adaptation.  \n",
    "**D.** Regulatory concerns require models to be custom-trained for compliance."
   ]
  },
  {
   "cell_type": "markdown",
   "id": "answer-4",
   "metadata": {},
   "source": [
    "**✅ Correct Answer: C**\n",
    "\n",
    "**Rationale:** Experimentation and retraining allow for task-specific optimization, often leading to performance gains that static pre-trained models cannot achieve.\n",
    "\n",
    "---"
   ]
  },
  {
   "cell_type": "markdown",
   "id": "question-5",
   "metadata": {},
   "source": [
    "### Question 5: Mathematical Theorems vs Software Systems\n",
    "\n",
    "**Which of the following best describes the fundamental difference between mathematical theorems and software systems in the context of machine learning?**\n",
    "\n",
    "**A.** Theorems evolve continuously like software, but at a slower pace.  \n",
    "**B.** Software systems are more accurate due to real-time feedback and improvement cycles.  \n",
    "**C.** Theorems represent immutable truths; software remains inherently imperfect and iterative.  \n",
    "**D.** Software achieves stability through modular architecture, unlike theorems."
   ]
  },
  {
   "cell_type": "markdown",
   "id": "answer-5",
   "metadata": {},
   "source": [
    "**✅ Correct Answer: C**\n",
    "\n",
    "**Rationale:** Mathematical theorems are considered perfect upon discovery and do not require versioning, unlike software which is a human-made construct subject to continuous refinement.\n",
    "\n",
    "---"
   ]
  },
  {
   "cell_type": "markdown",
   "id": "summary",
   "metadata": {},
   "source": [
    "## Quiz Summary\n",
    "\n",
    "This quiz covers essential foundational concepts in AI including:\n",
    "\n",
    "- **Philosophical motivations** behind AI development\n",
    "- **Theoretical limitations** (No Free Lunch theorem)\n",
    "- **Historical challenges** in interdisciplinary research\n",
    "- **Practical considerations** for model deployment and optimization\n",
    "- **Fundamental differences** between mathematical and computational approaches\n",
    "\n",
    "### Key Learning Outcomes:\n",
    "1. Understanding the deep-rooted human desire to replicate intelligence\n",
    "2. Recognizing that no single algorithm works best for all problems\n",
    "3. Appreciating historical institutional barriers in AI research\n",
    "4. Valuing the importance of task-specific model adaptation\n",
    "5. Distinguishing between theoretical perfection and practical implementation"
   ]
  },
  {
   "cell_type": "code",
   "execution_count": null,
   "id": "quiz-code",
   "metadata": {},
   "outputs": [],
   "source": [
    "# Optional: Interactive Quiz Implementation\n",
    "# You can run this cell to create an interactive version of the quiz\n",
    "\n",
    "questions = {\n",
    "    1: {\n",
    "        'question': 'Which of the following best reflects the philosophical foundation behind humanity\\'s long-standing aspiration to build intelligent systems?',\n",
    "        'options': {\n",
    "            'A': 'AI development was primarily driven by industrial revolution engineering goals.',\n",
    "            'B': 'The drive to create intelligent agents stems from ancient human desires to exert control and replicate intelligence.',\n",
    "            'C': 'AI emerged naturally from formal logic systems and automata theory.',\n",
    "            'D': 'Early computing systems incidentally led to AI through symbolic processing.'\n",
    "        },\n",
    "        'correct': 'B'\n",
    "    },\n",
    "    2: {\n",
    "        'question': 'Which conclusion most accurately aligns with the implications of the No Free Lunch theorem in machine learning?',\n",
    "        'options': {\n",
    "            'A': 'Every algorithm achieves optimal performance given sufficient training data.',\n",
    "            'B': 'Model performance generalizes across tasks if architecture complexity is high.',\n",
    "            'C': 'No algorithm is universally superior; performance depends entirely on problem-specific data and assumptions.',\n",
    "            'D': 'Complex algorithms like deep neural networks outperform traditional models in all contexts.'\n",
    "        },\n",
    "        'correct': 'C'\n",
    "    }\n",
    "    # Add remaining questions as needed\n",
    "}\n",
    "\n",
    "print(\"Quiz loaded successfully! Questions:\", len(questions))\n",
    "print(\"Duration: 0-52 minutes\")\n",
    "print(\"Topic: Week 1.2 - Foundations of AI\")"
   ]
  }
 ],
 "metadata": {
  "kernelspec": {
   "display_name": "Python 3 (ipykernel)",
   "language": "python",
   "name": "python3"
  },
  "language_info": {
   "codemirror_mode": {
    "name": "ipython",
    "version": 3
   },
   "file_extension": ".py",
   "mimetype": "text/x-python",
   "name": "python",
   "nbconvert_exporter": "python",
   "pygments_lexer": "ipython3",
   "version": "3.9.13"
  }
 },
 "nbformat": 4,
 "nbformat_minor": 5
}
