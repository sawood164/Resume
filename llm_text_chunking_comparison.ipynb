{
 "cells": [
  {
   "cell_type": "markdown",
   "metadata": {},
   "source": [
    "# Machine Learning Labs - Library Setup Guide\n",
    "\n",
    "This notebook contains the setup and import statements for all ML labs, organized by lab number."
   ]
  },
  {
   "cell_type": "markdown",
   "metadata": {},
   "source": [
    "## Installation Commands\n",
    "\n",
    "Run these commands in your terminal or uncomment and run in notebook:"
   ]
  },
  {
   "cell_type": "code",
   "execution_count": null,
   "metadata": {},
   "outputs": [],
   "source": [
    "# Uncomment and run these installation commands as needed\n",
    "\n",
    "# !pip install torch torchvision\n",
    "# !pip install numpy matplotlib scikit-learn pandas\n",
    "# !pip install tensorflow keras\n",
    "# !pip install seaborn\n",
    "# !pip install rich\n",
    "# !pip install joblib\n",
    "# !pip install Pillow scipy\n",
    "# !pip install ipython"
   ]
  },
  {
   "cell_type": "markdown",
   "metadata": {},
   "source": [
    "---\n",
    "\n",
    "## Lab 1: Gradient Descent\n",
    "\n",
    "**Focus**: Deep learning framework for neural networks, numerical computations, and visualization."
   ]
  },
  {
   "cell_type": "code",
   "execution_count": null,
   "metadata": {},
   "outputs": [],
   "source": [
    "# Lab 1: Gradient Descent\n",
    "import torch\n",
    "import numpy as np\n",
    "import matplotlib.pyplot as plt\n",
    "from sklearn.preprocessing import StandardScaler\n",
    "from sklearn.model_selection import train_test_split\n",
    "\n",
    "print(\"Lab 1 libraries loaded successfully!\")\n",
    "print(f\"PyTorch version: {torch.__version__}\")\n",
    "print(f\"NumPy version: {np.__version__}\")"
   ]
  },
  {
   "cell_type": "markdown",
   "metadata": {},
   "source": [
    "---\n",
    "\n",
    "## Lab 2: Activation Functions\n",
    "\n",
    "**Focus**: Uses libraries from previous labs - no additional imports needed."
   ]
  },
  {
   "cell_type": "code",
   "execution_count": null,
   "metadata": {},
   "outputs": [],
   "source": [
    "# Lab 2: Activation Functions\n",
    "# Uses same libraries as Lab 1\n",
    "import torch\n",
    "import torch.nn as nn\n",
    "import torch.nn.functional as F\n",
    "import numpy as np\n",
    "import matplotlib.pyplot as plt\n",
    "\n",
    "print(\"Lab 2 libraries ready!\")"
   ]
  },
  {
   "cell_type": "markdown",
   "metadata": {},
   "source": [
    "---\n",
    "\n",
    "## Lab 3: Iris Classification\n",
    "\n",
    "**Focus**: Data manipulation, TensorFlow/Keras, and statistical visualization."
   ]
  },
  {
   "cell_type": "code",
   "execution_count": null,
   "metadata": {},
   "outputs": [],
   "source": [
    "# Lab 3: Iris Classification\n",
    "import pandas as pd\n",
    "import tensorflow as tf\n",
    "from tensorflow import keras\n",
    "from tensorflow.keras import layers\n",
    "import seaborn as sns\n",
    "import matplotlib.pyplot as plt\n",
    "import numpy as np\n",
    "\n",
    "print(\"Lab 3 libraries loaded successfully!\")\n",
    "print(f\"Pandas version: {pd.__version__}\")\n",
    "print(f\"TensorFlow version: {tf.__version__}\")\n",
    "print(f\"Seaborn version: {sns.__version__}\")"
   ]
  },
  {
   "cell_type": "markdown",
   "metadata": {},
   "source": [
    "---\n",
    "\n",
    "## Lab 4: PyTorch Homework\n",
    "\n",
    "**Focus**: Styled terminal output and course-specific utilities."
   ]
  },
  {
   "cell_type": "code",
   "execution_count": null,
   "metadata": {},
   "outputs": [],
   "source": [
    "# Lab 4: PyTorch Homework\n",
    "import torch\n",
    "import torch.nn as nn\n",
    "import torch.optim as optim\n",
    "from rich.console import Console\n",
    "from rich.table import Table\n",
    "from rich.progress import track\n",
    "from rich import print as rprint\n",
    "\n",
    "# Note: svlearn_hw is a course-specific module (not publicly available)\n",
    "# import svlearn_hw  # Uncomment if available in your course environment\n",
    "\n",
    "console = Console()\n",
    "console.print(\"Lab 4 libraries loaded with [bold green]rich[/bold green] styling!\")"
   ]
  },
  {
   "cell_type": "markdown",
   "metadata": {},
   "source": [
    "---\n",
    "\n",
    "## Lab 5: Not Available\n",
    "\n",
    "**Note**: No lab provided for Lab 5."
   ]
  },
  {
   "cell_type": "code",
   "execution_count": null,
   "metadata": {},
   "outputs": [],
   "source": [
    "# Lab 5: Not Available\n",
    "print(\"Lab 5 is not available.\")"
   ]
  },
  {
   "cell_type": "markdown",
   "metadata": {},
   "source": [
    "---\n",
    "\n",
    "## Lab 6: Schedulers & Optimizers\n",
    "\n",
    "**Focus**: Neural network optimization, learning rate scheduling, and data loading utilities."
   ]
  },
  {
   "cell_type": "code",
   "execution_count": null,
   "metadata": {},
   "outputs": [],
   "source": [
    "# Lab 6: Schedulers & Optimizers\n",
    "import torch\n",
    "import torch.nn as nn\n",
    "import torch.optim as optim\n",
    "from torch.optim.lr_scheduler import StepLR, ExponentialLR, CosineAnnealingLR\n",
    "from torch.utils.data import DataLoader, TensorDataset\n",
    "\n",
    "from sklearn.model_selection import train_test_split\n",
    "from sklearn.datasets import make_classification, load_digits\n",
    "from sklearn.preprocessing import StandardScaler\n",
    "\n",
    "from IPython.display import display, HTML, clear_output\n",
    "import matplotlib.pyplot as plt\n",
    "import numpy as np\n",
    "\n",
    "print(\"Lab 6 libraries loaded successfully!\")\n",
    "print(\"Ready for optimization experiments!\")"
   ]
  },
  {
   "cell_type": "markdown",
   "metadata": {},
   "source": [
    "---\n",
    "\n",
    "## Lab 7: CNN vs FCN\n",
    "\n",
    "**Focus**: Computer vision with Torchvision for datasets, transforms, and pretrained models."
   ]
  },
  {
   "cell_type": "code",
   "execution_count": null,
   "metadata": {},
   "outputs": [],
   "source": [
    "# Lab 7: CNN vs FCN\n",
    "import torch\n",
    "import torch.nn as nn\n",
    "import torch.nn.functional as F\n",
    "import torch.optim as optim\n",
    "from torch.utils.data import DataLoader\n",
    "\n",
    "import torchvision\n",
    "import torchvision.transforms as transforms\n",
    "from torchvision.datasets import CIFAR10, MNIST\n",
    "import torchvision.models as models\n",
    "\n",
    "import matplotlib.pyplot as plt\n",
    "import numpy as np\n",
    "\n",
    "print(\"Lab 7 libraries loaded successfully!\")\n",
    "print(f\"Torchvision version: {torchvision.__version__}\")\n",
    "print(\"Ready for CNN vs FCN comparison!\")"
   ]
  },
  {
   "cell_type": "markdown",
   "metadata": {},
   "source": [
    "---\n",
    "\n",
    "## Lab 8 (Part 1): Tree CNN\n",
    "\n",
    "**Focus**: Uses libraries from previous labs - no additional imports needed."
   ]
  },
  {
   "cell_type": "code",
   "execution_count": null,
   "metadata": {},
   "outputs": [],
   "source": [
    "# Lab 8 (Part 1): Tree CNN\n",
    "# Uses same libraries as previous labs\n",
    "import torch\n",
    "import torch.nn as nn\n",
    "import torchvision\n",
    "import torchvision.transforms as transforms\n",
    "from torch.utils.data import DataLoader\n",
    "import matplotlib.pyplot as plt\n",
    "import numpy as np\n",
    "\n",
    "print(\"Lab 8 Part 1 libraries ready!\")"
   ]
  },
  {
   "cell_type": "markdown",
   "metadata": {},
   "source": [
    "---\n",
    "\n",
    "## Lab 8 (Part 2): Bird Audio\n",
    "\n",
    "**Focus**: Model serialization and evaluation metrics for audio classification."
   ]
  },
  {
   "cell_type": "code",
   "execution_count": null,
   "metadata": {},
   "outputs": [],
   "source": [
    "# Lab 8 (Part 2): Bird Audio\n",
    "import torch\n",
    "import torch.nn as nn\n",
    "import numpy as np\n",
    "import joblib\n",
    "from sklearn.metrics import accuracy_score, classification_report, confusion_matrix, f1_score\n",
    "from sklearn.preprocessing import LabelEncoder\n",
    "import matplotlib.pyplot as plt\n",
    "import seaborn as sns\n",
    "\n",
    "print(\"Lab 8 Part 2 libraries loaded successfully!\")\n",
    "print(f\"Joblib version: {joblib.__version__}\")\n",
    "print(\"Ready for audio classification!\")"
   ]
  },
  {
   "cell_type": "markdown",
   "metadata": {},
   "source": [
    "---\n",
    "\n",
    "## Lab 9 & 10: Autoencoders\n",
    "\n",
    "**Focus**: Image processing, scientific computing, and custom autoencoder utilities."
   ]
  },
  {
   "cell_type": "code",
   "execution_count": null,
   "metadata": {},
   "outputs": [],
   "source": [
    "# Lab 9 & 10: Autoencoders\n",
    "import torch\n",
    "import torch.nn as nn\n",
    "import torch.optim as optim\n",
    "from torch.utils.data import DataLoader, Dataset\n",
    "\n",
    "from PIL import Image\n",
    "import numpy as np\n",
    "import matplotlib.pyplot as plt\n",
    "from scipy import ndimage\n",
    "from scipy.optimize import minimize\n",
    "import scipy.stats as stats\n",
    "\n",
    "import argparse\n",
    "import json\n",
    "import collections\n",
    "import os\n",
    "import sys\n",
    "\n",
    "# Note: svlearn_autoencoders is a custom utility library (not publicly available)\n",
    "# import svlearn_autoencoders  # Uncomment if available in your course environment\n",
    "\n",
    "print(\"Lab 9 & 10 libraries loaded successfully!\")\n",
    "print(\"Ready for autoencoder experiments!\")\n",
    "\n",
    "# Set up argument parser for command-line usage\n",
    "def setup_args():\n",
    "    parser = argparse.ArgumentParser(description='Autoencoder Lab')\n",
    "    parser.add_argument('--epochs', type=int, default=100, help='Number of training epochs')\n",
    "    parser.add_argument('--lr', type=float, default=0.001, help='Learning rate')\n",
    "    parser.add_argument('--batch_size', type=int, default=32, help='Batch size')\n",
    "    return parser\n",
    "\n",
    "# Example usage in notebook (uncomment if needed):\n",
    "# args = setup_args().parse_args([])\n",
    "# print(f\"Default args: epochs={args.epochs}, lr={args.lr}, batch_size={args.batch_size}\")"
   ]
  },
  {
   "cell_type": "markdown",
   "metadata": {},
   "source": [
    "---\n",
    "\n",
    "## Quick Library Check\n",
    "\n",
    "Run this cell to check if all major libraries are properly installed:"
   ]
  },
  {
   "cell_type": "code",
   "execution_count": null,
   "metadata": {},
   "outputs": [],
   "source": [
    "# Quick library check\n",
    "libraries = {\n",
    "    'torch': torch,\n",
    "    'numpy': np,\n",
    "    'matplotlib': plt,\n",
    "    'sklearn': sklearn if 'sklearn' in globals() else 'sklearn',\n",
    "    'pandas': pd if 'pd' in globals() else None,\n",
    "    'tensorflow': tf if 'tf' in globals() else None,\n",
    "    'seaborn': sns if 'sns' in globals() else None,\n",
    "    'torchvision': torchvision if 'torchvision' in globals() else None,\n",
    "    'PIL': Image,\n",
    "    'scipy': scipy if 'scipy' in globals() else None,\n",
    "    'joblib': joblib if 'joblib' in globals() else None\n",
    "}\n",
    "\n",
    "print(\"Library Status Check:\")\n",
    "print(\"=\" * 30)\n",
    "for name, lib in libraries.items():\n",
    "    if lib is not None:\n",
    "        try:\n",
    "            version = lib.__version__ if hasattr(lib, '__version__') else \"Available\"\n",
    "            print(f\"✓ {name}: {version}\")\n",
    "        except:\n",
    "            print(f\"✓ {name}: Available\")\n",
    "    else:\n",
    "        print(f\"✗ {name}: Not loaded\")\n",
    "\n",
    "print(\"\\nAll major libraries status checked!\")"
   ]
  },
  {
   "cell_type": "markdown",
   "metadata": {},
   "source": [
    "---\n",
    "\n",
    "## Notes\n",
    "\n",
    "1. **Course-specific libraries**: `svlearn_hw` and `svlearn_autoencoders` are not publicly available and are specific to your course.\n",
    "\n",
    "2. **GitHub Links**: All official libraries can be found at their respective GitHub repositories listed in the original table.\n",
    "\n",
    "3. **Installation**: Make sure to install all required packages using pip or conda before running the labs.\n",
    "\n",
    "4. **GPU Support**: If you're using CUDA-enabled GPUs, make sure to install the appropriate PyTorch version with CUDA support.\n",
    "\n",
    "5. **Environment**: This notebook is designed to work in Jupyter Lab/Notebook environments."
   ]
  }
 ],
 "metadata": {
  "kernelspec": {
   "display_name": "Python 3",
   "language": "python",
   "name": "python3"
  },
  "language_info": {
   "codemirror_mode": {
    "name": "ipython",
    "version": 3
   },
   "file_extension": ".py",
   "mimetype": "text/x-python",
   "name": "python",
   "nbconvert_exporter": "python",
   "pygments_lexer": "ipython3",
   "version": "3.8.5"
  }
 },
 "nbformat": 4,
 "nbformat_minor": 4
}
