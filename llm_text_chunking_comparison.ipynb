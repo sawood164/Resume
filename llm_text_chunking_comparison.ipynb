{
 "cells": [
  {
   "cell_type": "markdown",
   "metadata": {},
   "source": [
    "# 🛠️ Modernizing Python Development with UV: A Comprehensive Guide\n",
    "\n",
    "---\n",
    "\n",
    "This notebook provides a complete guide to modern Python development using UV, including corrections to common documentation issues and best practices for AI-assisted development workflows.\n",
    "\n",
    "**Table of Contents:**\n",
    "1. [Documentation Corrections](#corrections)\n",
    "2. [Introduction to UV](#introduction)\n",
    "3. [UV as a Modern Tool](#modern-tool)\n",
    "4. [Installation and Setup](#installation)\n",
    "5. [Project Management](#project-management)\n",
    "6. [Development Environment](#development)\n",
    "7. [Use Case Examples](#use-cases)\n",
    "8. [Documentation and Testing](#docs-testing)\n",
    "9. [AI Integration](#ai-integration)\n",
    "10. [Conclusion](#conclusion)"
   ]
  },
  {
   "cell_type": "markdown",
   "metadata": {},
   "source": [
    "<a id=\"corrections\"></a>\n",
    "## 📋 Documentation Corrections\n",
    "\n",
    "The following table identifies and corrects common errors found in UV documentation:"
   ]
  },
  {
   "cell_type": "markdown",
   "metadata": {},
   "source": [
    "| **Section (Approx. Line No.)**             | **Incorrect Text**                                 | **Corrected Text**                                                                              | **Reason for Correction**                                                                                 |\n",
    "| ------------------------------------------ | -------------------------------------------------- | ----------------------------------------------------------------------------------------------- | --------------------------------------------------------------------------------------------------------- |\n",
    "| *Introduction to UV* (Line 4)              | \"Pipex\"                                            | `pipx`                                                                                          | The correct Python tool is `pipx`, **not** \"Pipex.\" Common typo; `pipx` is used to run CLI Python apps.   |\n",
    "| *Introduction to UV* (Line 5)              | \"AI-enabled Integrated Development Environment\"    | \"AI-assisted IDE, specifically Cursor with the **crewAI** agent\"                                | Cursor is **AI-assisted**, not AI-enabled, and its AI agent is named **crewAI**, not \"QAI.\"               |\n",
    "| *UV as a Modern Tool* (Line 11)            | *(No mention of Rust)*                             | Added: \"UV is a **Rust-based** package manager\"                                                 | UV is written in Rust, which enables its performance advantages. This is missing in the original summary. |\n",
    "| *Efficient Project Management* (Line 22)   | \"`uv sync upgrade`\"                                | \"`uv sync` (install) and `uv sync upgrade` (update dependencies)\"                               | `uv sync` and `uv sync upgrade` are two distinct commands that need to be clearly specified.              |\n",
    "| *Enhancing Use Case Efficiency* (Line 30)  | \"scraping PDF links using UV\"                      | \"scraping PDF links **within a UV-managed project**\"                                            | UV handles environment setup, not the scraping logic. The original wording was misleading.                |\n",
    "| *Enhancing Use Case Efficiency* (Line 31)  | *(No mention of `icontract` or custom exceptions)* | Added: \"Used `icontract` for pre/post-conditions and custom exception `PDFDownloaderException`\" | These were covered in the session and show best practices in defensive coding.                            |\n",
    "| *Enhancing Use Case Efficiency* (Line 32)  | \"Pathlib for file operations\"                      | \"`pathlib` (instead of `os.path`) for modern, object-oriented file operations\"                  | Clarifies why `pathlib` is used and what it's replacing, aligning with modern Python standards.           |\n",
    "| *Documentation and Unit Testing* (Line 36) | *(No mention of testing tools or model)*           | Added: \"Unit tests assisted using **Claude 4**, aiming for ≥80% coverage\"                       | The session demonstrated Claude 4 generating/refining unit tests. Important to reflect this detail.       |\n",
    "| *Documentation and Unit Testing* (Line 37) | *(No mention of serving docs)*                     | Added: \"Used `uv serve docs` to host Markdown + Mermaid diagrams\"                               | `uv serve docs` was used to demonstrate hosted documentation setup.                                       |"
   ]
  },
  {
   "cell_type": "markdown",
   "metadata": {},
   "source": [
    "---\n",
    "<a id=\"introduction\"></a>\n",
    "## 🚀 Introduction to UV\n",
    "\n",
    "The software development industry is constantly evolving, introducing new challenges that demand modern tooling. **UV**, a revolutionary, **Rust-based** package manager for Python, emerges as a powerful replacement for legacy tools such as:\n",
    "\n",
    "- `pip`\n",
    "- `conda` \n",
    "- `pipx`\n",
    "- `Poetry`\n",
    "\n",
    "This session focused on standardizing development environments using UV in combination with an **AI-assisted IDE**, specifically **Cursor** with its **crewAI** agent."
   ]
  },
  {
   "cell_type": "markdown",
   "metadata": {},
   "source": [
    "<a id=\"modern-tool\"></a>\n",
    "## ⚡ UV as a Modern Tool\n",
    "\n",
    "UV stands out due to its key advantages:\n",
    "\n",
    "### 🔧 Core Features\n",
    "- **Accelerated dependency resolution** - Rust-based performance\n",
    "- **Deterministic lockfile handling** - Reproducible builds\n",
    "- **Global caching** - Faster installations\n",
    "- **Cross-platform consistency** - Works seamlessly across OS\n",
    "\n",
    "Unlike its predecessors, UV ensures seamless, reproducible project setups, making it a comprehensive tool for modern Python development."
   ]
  },
  {
   "cell_type": "markdown",
   "metadata": {},
   "source": [
    "<a id=\"installation\"></a>\n",
    "## 🔧 Installing and Setting Up UV\n",
    "\n",
    "The setup process involves transitioning from traditional environments to modern tooling:"
   ]
  },
  {
   "cell_type": "code",
   "execution_count": null,
   "metadata": {},
   "source": [
    "# Install UV (example commands - run in terminal)\n",
    "# curl -LsSf https://astral.sh/uv/install.sh | sh\n",
    "# or\n",
    "# pip install uv\n",
    "\n",
    "# Initialize new project\n",
    "# uv init my-project\n",
    "# cd my-project\n",
    "\n",
    "# Set Python version (3.12 recommended for optimal compatibility)\n",
    "# uv python pin 3.12"
   ],
   "outputs": []
  },
  {
   "cell_type": "markdown",
   "metadata": {},
   "source": [
    "### 🐧 Environment Setup\n",
    "- **Shift from Windows to Linux-based development** for better compatibility\n",
    "- **Lock Python version 3.12** for optimal performance\n",
    "- **Use `uv init`** to create standardized project structure"
   ]
  },
  {
   "cell_type": "markdown",
   "metadata": {},
   "source": [
    "<a id=\"project-management\"></a>\n",
    "## 📦 Efficient Project Management\n",
    "\n",
    "UV provides streamlined dependency and virtual environment management:"
   ]
  },
  {
   "cell_type": "code",
   "execution_count": null,
   "metadata": {},
   "source": [
    "# Core UV Commands for Project Management\n",
    "\n",
    "# Install dependencies from lockfile\n",
    "# uv sync\n",
    "\n",
    "# Update and synchronize dependencies  \n",
    "# uv sync --upgrade\n",
    "\n",
    "# Add new dependency\n",
    "# uv add requests\n",
    "\n",
    "# Add development dependency\n",
    "# uv add --dev pytest\n",
    "\n",
    "# Build package\n",
    "# uv build\n",
    "\n",
    "# Publish package\n",
    "# uv publish"
   ],
   "outputs": []
  },
  {
   "cell_type": "markdown",
   "metadata": {},
   "source": [
    "### 🎯 Key Commands Breakdown\n",
    "\n",
    "| Command | Purpose | Usage |\n",
    "|---------|---------|-------|\n",
    "| `uv sync` | Install dependencies from lockfile | Initial setup, consistent environments |\n",
    "| `uv sync --upgrade` | Update and sync dependencies | Keeping dependencies current |\n",
    "| `uv add <package>` | Add new dependency | Adding runtime dependencies |\n",
    "| `uv add --dev <package>` | Add development dependency | Testing, linting, development tools |\n",
    "| `uv build` | Build distributable package | Creating wheels/sdist |\n",
    "| `uv publish` | Publish to PyPI | Package distribution |"
   ]
  },
  {
   "cell_type": "markdown",
   "metadata": {},
   "source": [
    "<a id=\"development\"></a>\n",
    "## 💻 Development Environment and Coding Practices\n",
    "\n",
    "### 🎨 Recommended IDE Setup\n",
    "- **Cursor IDE** - AI-assisted development environment\n",
    "- **crewAI agent** - Intelligent code completion and suggestions\n",
    "- **Clean virtual environments** - Isolated, reproducible setups\n",
    "\n",
    "### 📝 Best Practices\n",
    "- Maintain clean lockfiles\n",
    "- Exclude unnecessary files from virtual environments\n",
    "- Follow structured development workflows\n",
    "- Use AI assistance for code quality and productivity"
   ]
  },
  {
   "cell_type": "markdown",
   "metadata": {},
   "source": [
    "<a id=\"use-cases\"></a>\n",
    "## 🔍 Enhancing Use Case Efficiency\n",
    "\n",
    "### 📄 Real-World Example: PDF Link Scraping\n",
    "\n",
    "Live demonstration of scraping PDF links **within a UV-managed project** showcasing:"
   ]
  },
  {
   "cell_type": "code",
   "execution_count": null,
   "metadata": {},
   "source": [
    "# Example: Modern Python practices in UV-managed project\n",
    "\n",
    "from pathlib import Path  # Modern file operations (not os.path)\n",
    "from icontract import require, ensure  # Defensive programming\n",
    "from loguru import logger  # Enhanced logging\n",
    "\n",
    "class PDFDownloaderException(Exception):\n",
    "    \"\"\"Custom exception for PDF download operations.\"\"\"\n",
    "    pass\n",
    "\n",
    "class PDFScraper:\n",
    "    \"\"\"Object-oriented PDF scraping with modern Python practices.\"\"\"\n",
    "    \n",
    "    def __init__(self, base_url: str, output_dir: Path):\n",
    "        self.base_url = base_url\n",
    "        self.output_dir = output_dir\n",
    "        self.output_dir.mkdir(parents=True, exist_ok=True)\n",
    "    \n",
    "    @require(lambda self, url: url.startswith('http'), \"URL must be valid HTTP(S)\")\n",
    "    @ensure(lambda result: isinstance(result, Path), \"Must return Path object\")\n",
    "    def download_pdf(self, url: str, filename: str) -> Path:\n",
    "        \"\"\"Download PDF with contracts and error handling.\n",
    "        \n",
    "        Args:\n",
    "            url: PDF download URL\n",
    "            filename: Target filename\n",
    "            \n",
    "        Returns:\n",
    "            Path to downloaded file\n",
    "            \n",
    "        Raises:\n",
    "            PDFDownloaderException: If download fails\n",
    "        \"\"\"\n",
    "        target_path = self.output_dir / filename\n",
    "        \n",
    "        try:\n",
    "            # Download logic would go here\n",
    "            logger.info(f\"Downloading {url} to {target_path}\")\n",
    "            # ... implementation ...\n",
    "            return target_path\n",
    "        except Exception as e:\n",
    "            raise PDFDownloaderException(f\"Failed to download {url}: {e}\")\n",
    "\n",
    "# Usage example\n",
    "# scraper = PDFScraper(\"https://example.com\", Path(\"./downloads\"))\n",
    "# pdf_path = scraper.download_pdf(\"https://example.com/doc.pdf\", \"document.pdf\")"
   ],
   "outputs": []
  },
  {
   "cell_type": "markdown",
   "metadata": {},
   "source": [
    "### 🏗️ Architecture Highlights\n",
    "\n",
    "**Object-Oriented Programming (OOP)**\n",
    "- Modular, reusable design\n",
    "- Clear separation of concerns\n",
    "- Maintainable codebase\n",
    "\n",
    "**Defensive Programming**\n",
    "- `icontract` for pre/post-conditions\n",
    "- Custom exceptions (`PDFDownloaderException`)\n",
    "- Robust error handling\n",
    "\n",
    "**Modern Python Standards**\n",
    "- `pathlib` instead of `os.path` for object-oriented file operations\n",
    "- Type hints for better code clarity\n",
    "- `loguru` for enhanced logging and traceability"
   ]
  },
  {
   "cell_type": "markdown",
   "metadata": {},
   "source": [
    "<a id=\"docs-testing\"></a>\n",
    "## 📚 Documentation and Unit Testing\n",
    "\n",
    "### 📖 Comprehensive Documentation Strategy"
   ]
  },
  {
   "cell_type": "code",
   "execution_count": null,
   "metadata": {},
   "source": [
    "# Documentation setup with UV\n",
    "\n",
    "# Add documentation dependencies\n",
    "# uv add --dev mkdocs mkdocs-material\n",
    "\n",
    "# Serve documentation locally\n",
    "# uv run mkdocs serve\n",
    "# or\n",
    "# uv serve docs\n",
    "\n",
    "# Build documentation\n",
    "# uv run mkdocs build"
   ],
   "outputs": []
  },
  {
   "cell_type": "markdown",
   "metadata": {},
   "source": [
    "### 📊 Documentation Components\n",
    "\n",
    "**Mermaid-based Architectural Diagrams**\n",
    "```mermaid\n",
    "graph TD\n",
    "    A[UV Project Init] --> B[Dependency Management]\n",
    "    B --> C[Virtual Environment]\n",
    "    C --> D[Development Workflow]\n",
    "    D --> E[Testing & Documentation]\n",
    "    E --> F[Build & Publish]\n",
    "```\n",
    "\n",
    "**Documentation Features:**\n",
    "- **Inclusive docstrings** across all functions\n",
    "- **Live preview hosting** via `uv serve docs`\n",
    "- **Markdown + Mermaid diagrams** for visual documentation\n",
    "- **API documentation** auto-generation"
   ]
  },
  {
   "cell_type": "code",
   "execution_count": null,
   "metadata": {},
   "source": [
    "# Testing setup with UV and AI assistance\n",
    "\n",
    "# Add testing dependencies\n",
    "# uv add --dev pytest pytest-cov pytest-mock\n",
    "\n",
    "# Run tests with coverage\n",
    "# uv run pytest --cov=src --cov-report=html --cov-report=term\n",
    "\n",
    "# Target: ≥80% test coverage\n",
    "# AI-assisted test generation using Claude 4"
   ],
   "outputs": []
  },
  {
   "cell_type": "markdown",
   "metadata": {},
   "source": [
    "### 🧪 Testing Strategy\n",
    "\n",
    "**AI-Assisted Testing Workflow:**\n",
    "- **Claude 4 integration** for test creation and refinement\n",
    "- **Target ≥80% coverage** for reliability\n",
    "- **Automated test generation** for common patterns\n",
    "- **High-quality test maintenance** through AI collaboration\n",
    "\n",
    "**Testing Tools:**\n",
    "- `pytest` - Modern Python testing framework\n",
    "- `pytest-cov` - Coverage reporting\n",
    "- `pytest-mock` - Mocking capabilities\n",
    "- **AI assistance** - Test case generation and optimization"
   ]
  },
  {
   "cell_type": "markdown",
   "metadata": {},
   "source": [
    "<a id=\"ai-integration\"></a>\n",
    "## 🤖 The Role of AI in Development\n",
    "\n",
    "### 🎯 AI-Powered Development Workflow\n",
    "\n",
    "The session emphasized how integrating AI tools drastically reduces development time while improving code quality:"
   ]
  },
  {
   "cell_type": "markdown",
   "metadata": {},
   "source": [
    "### 🛠️ AI Tools Integration\n",
    "\n",
    "| Tool | Purpose | Benefits |\n",
    "|------|---------|----------|\n",
    "| **Cursor + crewAI** | IDE with intelligent completion | Real-time code suggestions, context-aware assistance |\n",
    "| **Claude 4** | Testing and documentation | Automated test generation, code review, documentation |\n",
    "| **AI-Assisted Workflow** | Overall development process | Focus on architecture, automate repetitive tasks |\n",
    "\n",
    "### 💡 Key Benefits\n",
    "- **Reduced development time** - Automation of repetitive tasks\n",
    "- **Improved code quality** - AI-powered code review and suggestions\n",
    "- **Enhanced testing** - Automated test case generation\n",
    "- **Better documentation** - AI-assisted documentation creation\n",
    "- **Architectural focus** - More time for high-level design decisions"
   ]
  },
  {
   "cell_type": "code",
   "execution_count": null,
   "metadata": {},
   "source": [
    "# Example: AI-Assisted Development Workflow\n",
    "\n",
    "# 1. Project Setup with UV\n",
    "# uv init ai-enhanced-project\n",
    "# cd ai-enhanced-project\n",
    "\n",
    "# 2. Add dependencies with AI suggestions\n",
    "# uv add requests beautifulsoup4 loguru\n",
    "# uv add --dev pytest pytest-cov black ruff\n",
    "\n",
    "# 3. AI-assisted code development in Cursor\n",
    "# - crewAI provides intelligent completion\n",
    "# - Context-aware suggestions\n",
    "# - Code refactoring recommendations\n",
    "\n",
    "# 4. AI-generated tests with Claude 4\n",
    "# - Automated test case creation\n",
    "# - Edge case identification\n",
    "# - Coverage optimization\n",
    "\n",
    "# 5. Documentation with AI assistance\n",
    "# - Automated docstring generation\n",
    "# - README creation\n",
    "# - API documentation"
   ],
   "outputs": []
  },
  {
   "cell_type": "markdown",
   "metadata": {},
   "source": [
    "<a id=\"conclusion\"></a>\n",
    "## 🎯 Conclusion\n",
    "\n",
    "### 🚀 Transformative Impact\n",
    "\n",
    "**UV + AI-assisted development** represents a transformative approach to Python development:\n",
    "\n",
    "**UV Benefits:**\n",
    "- ⚡ **Faster project setups** - Rust-based performance\n",
    "- 🔒 **More reliable builds** - Deterministic dependency resolution\n",
    "- 🔄 **Consistent environments** - Cross-platform compatibility\n",
    "- 📦 **Simplified workflows** - Unified tooling\n",
    "\n",
    "**AI Integration Benefits:**\n",
    "- 🤖 **Intelligent code assistance** - Real-time suggestions and completion\n",
    "- 🧪 **Automated testing** - AI-generated test cases and coverage optimization\n",
    "- 📚 **Enhanced documentation** - Automated docstring and README generation\n",
    "- 🎯 **Focus on architecture** - More time for high-level design decisions\n",
    "\n",
    "### 🌟 The Future of Python Development\n",
    "\n",
    "This combination paves the way for:\n",
    "- **Scalable software practices**\n",
    "- **Maintainable codebases**\n",
    "- **Efficient development workflows**\n",
    "- **Higher code quality standards**\n",
    "- **Reduced time-to-market**\n",
    "\n",
    "The modern development ecosystem now enables developers to focus on what matters most: **solving problems and creating value**, while AI and modern tooling handle the repetitive and error-prone tasks."
   ]
  },
  {
   "cell_type": "markdown",
   "metadata": {},
   "source": [
    "---\n",
    "\n",
    "## 📝 Quick Reference\n",
    "\n",
    "### Essential UV Commands\n",
    "```bash\n",
    "# Project initialization\n",
    "uv init my-project\n",
    "uv python pin 3.12\n",
    "\n",
    "# Dependency management\n",
    "uv add <package>          # Add runtime dependency\n",
    "uv add --dev <package>    # Add development dependency\n",
    "uv sync                   # Install from lockfile\n",
    "uv sync --upgrade         # Update dependencies\n",
    "\n",
    "# Development workflow\n",
    "uv run <command>          # Run command in environment\n",
    "uv build                  # Build package\n",
    "uv publish               # Publish to PyPI\n",
    "\n",
    "# Documentation\n",
    "uv serve docs            # Serve documentation locally\n",
    "```\n",
    "\n",
    "### AI-Assisted Development Stack\n",
    "- **IDE:** Cursor with crewAI agent\n",
    "- **Testing:** Claude 4 for automated test generation\n",
    "- **Documentation:** AI-assisted docstring and README creation\n",
    "- **Code Quality:** AI-powered code review and suggestions\n",
    "\n",
    "---\n",
    "\n",
    "*This notebook provides a complete guide to modern Python development with UV and AI assistance. For the latest updates and detailed documentation, visit the official UV documentation and AI tool resources.*"
   ]
  }
 ],
 "metadata": {
  "kernelspec": {
   "display_name": "Python 3",
   "language": "python",
   "name": "python3"
  },
  "language_info": {
   "codemirror_mode": {
    "name": "ipython",
    "version": 3
   },
   "file_extension": ".py",
   "mimetype": "text/x-python",
   "name": "python",
   "nbconvert_exporter": "python",
   "pygments_lexer": "ipython3",
   "version": "3.12.0"
  }
 },
 "nbformat": 4,
 "nbformat_minor": 4
}
