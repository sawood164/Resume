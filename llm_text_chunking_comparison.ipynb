{
 "cells": [
  {
   "cell_type": "markdown",
   "metadata": {},
   "source": [
    "# Spring 2025 : Foundations of AI: Neural Nets, LLMs & Gen AI\n",
    "\n",
    "| Lab | Library / Framework | Why It Matters | Official GitHub Link |\n",
    "|-----|-------------------|----------------|---------------------|\n",
    "| **Lab 1: Gradient Descent** | PyTorch | Deep learning framework for neural networks. | https://github.com/pytorch/pytorch |\n",
    "| | NumPy | Numerical computations and array operations. | https://github.com/numpy/numpy |\n",
    "| | Matplotlib | Plotting and data visualization. | https://github.com/matplotlib/matplotlib |\n",
    "| | Scikit-learn | Data preprocessing and ML tools. | https://github.com/scikit-learn/scikit-learn |\n",
    "| **Lab 2: Activation Functions** | *(None)* | Already used in previous labs. | *(N/A)* |\n",
    "| **Lab 3: Iris Classification** | Pandas | Data manipulation and analysis. | https://github.com/pandas-dev/pandas |\n",
    "| | TensorFlow | Scalable machine learning framework. | https://github.com/tensorflow/tensorflow |\n",
    "| | Keras | High-level API for building neural networks. | https://github.com/keras-team/keras |\n",
    "| | Seaborn | Statistical data visualization. | https://github.com/mwaskom/seaborn |\n",
    "| **Lab 4: PyTorch Homework** | rich | Styled terminal output and formatting. | https://github.com/Textualize/rich |\n",
    "| | svlearn_hw | Course-specific utility library/module. | *(Not publicly available)* |\n",
    "| **Lab 5: Not Available** | *(None)* | No lab provided. | *(N/A)* |\n",
    "| **Lab 6: Schedulers & Optimizers** | torch.nn | Neural network layers and operations. | https://github.com/pytorch/pytorch |\n",
    "| | torch.optim | Optimization algorithms like Adam, SGD. | https://github.com/pytorch/pytorch |\n",
    "| | torch.optim.lr_scheduler | Learning rate scheduling strategies. | https://github.com/pytorch/pytorch |\n",
    "| | torch.utils.data | Data loading utilities like DataLoader. | https://github.com/pytorch/pytorch |\n",
    "| | sklearn.model_selection | Tools for data splitting, cross-validation. | https://github.com/scikit-learn/scikit-learn |\n",
    "| | sklearn.datasets | Access to standard datasets. | https://github.com/scikit-learn/scikit-learn |\n",
    "| | IPython.display | Display multimedia inside Jupyter. | https://github.com/ipython/ipython |\n",
    "| **Lab 7: CNN vs FCN** | Torchvision | Datasets, transforms, and pretrained models for vision tasks. | https://github.com/pytorch/vision |\n",
    "| **Lab 8 (Part 1): Tree CNN** | *(None)* | Already used in previous labs. | *(N/A)* |\n",
    "| **Lab 8 (Part 2): Bird Audio** | joblib | Efficient object serialization for models. | https://github.com/joblib/joblib |\n",
    "| | sklearn.metrics | Model evaluation metrics like accuracy, F1-score. | https://github.com/scikit-learn/scikit-learn |\n",
    "| **Lab 9 & 10: Autoencoders** | Pillow (PIL) | Image loading and processing. | https://github.com/python-pillow/Pillow |\n",
    "| | SciPy | Scientific computing, optimization, and stats. | https://github.com/scipy/scipy |\n",
    "| | argparse | Command-line argument parsing in Python. | https://github.com/python/cpython |\n",
    "| | collections/json/... | Standard Python utility modules. | https://github.com/python/cpython |\n",
    "| | svlearn_autoencoders | Custom autoencoder utility library. | *(Not publicly available)* |\n\n---\n\n## 🔹 Part 2: Tool Usage Matrix (Labs × Tools)\n\n| **Tool Name** | **Lab 1** | **Lab 2** | **Lab 3** | **Lab 4** | **Lab 5** | **Lab 6** | **Lab 7** | **Lab 8.1** | **Lab 8.2** | **Lab 9/10** |\n|---------------|-----------|-----------|-----------|-----------|-----------|-----------|-----------|-------------|-------------|-------------|\n| PyTorch | ✅ | ✅ | ✅ | ✅ | ❌ | ✅ | ✅ | ❌ | ✅ | ✅ |\n| NumPy | ✅ | ✅ | ✅ | ✅ | ❌ | ✅ | ✅ | ✅ | ✅ | ✅ |\n| Matplotlib | ✅ | ✅ | ✅ | ✅ | ❌ | ✅ | ✅ | ✅ | ✅ | ✅ |\n| Scikit-learn | ✅ | ❌ | ✅ | ✅ | ❌ | ✅ | ✅ | ✅ | ✅ | ✅ |\n| Pandas | ❌ | ❌ | ✅ | ❌ | ❌ | ✅ | ❌ | ❌ | ❌ | ✅ |\n| TensorFlow | ❌ | ❌ | ✅ | ❌ | ❌ | ❌ | ❌ | ❌ | ❌ | ❌ |\n| Keras | ❌ | ❌ | ✅ | ❌ | ❌ | ❌ | ❌ | ❌ | ❌ | ❌ |\n| Seaborn | ❌ | ❌ | ✅ | ❌ | ❌ | ✅ | ❌ | ❌ | ❌ | ✅ |\n| `rich` | ❌ | ❌ | ❌ | ✅ | ❌ | ❌ | ❌ | ❌ | ❌ | ❌ |\n| `svlearn_hw` | ❌ | ❌ | ❌ | ✅ | ❌ | ❌ | ❌ | ❌ | ❌ | ❌ |\n| `torch.nn` | ❌ | ❌ | ❌ | ❌ | ❌ | ✅ | ❌ | ❌ | ✅ | ✅ |\n| `torch.optim` | ❌ | ❌ | ❌ | ❌ | ❌ | ✅ | ❌ | ❌ | ✅ | ✅ |\n| `torch.optim.lr_scheduler` | ❌ | ❌ | ❌ | ❌ | ❌ | ✅ | ❌ | ❌ | ❌ | ❌ |\n| `torch.utils.data` | ❌ | ❌ | ❌ | ❌ | ❌ | ✅ | ❌ | ❌ | ✅ | ✅ |\n| `sklearn.model_selection` | ❌ | ❌ | ❌ | ❌ | ❌ | ✅ | ❌ | ❌ | ❌ | ❌ |\n| `sklearn.datasets` | ❌ | ❌ | ❌ | ❌ | ❌ | ✅ | ❌ | ❌ | ❌ | ❌ |\n| IPython.display | ❌ | ❌ | ❌ | ❌ | ❌ | ✅ | ❌ | ✅ | ✅ | ✅ |\n| Torchvision | ❌ | ❌ | ❌ | ❌ | ❌ | ❌ | ✅ | ❌ | ❌ | ✅ |\n| joblib | ❌ | ❌ | ❌ | ❌ | ❌ | ❌ | ❌ | ❌ | ✅ | ❌ |\n| `sklearn.metrics` | ❌ | ❌ | ❌ | ❌ | ❌ | ❌ | ❌ | ❌ | ✅ | ✅ |\n| Pillow (PIL) | ❌ | ❌ | ❌ | ❌ | ❌ | ❌ | ❌ | ❌ | ❌ | ✅ |\n| SciPy | ❌ | ❌ | ❌ | ❌ | ❌ | ❌ | ❌ | ❌ | ❌ | ✅ |\n| argparse | ❌ | ❌ | ❌ | ❌ | ❌ | ❌ | ❌ | ❌ | ❌ | ✅ |\n| collections/json/... | ❌ | ❌ | ❌ | ❌ | ❌ | ❌ | ❌ | ❌ | ❌ | ✅ |\n| svlearn_autoencoders | ❌ | ❌ | ❌ | ❌ | ❌ | ❌ | ❌ | ❌ | ❌ | ✅ |"
   ]
  }
 ],
 "metadata": {
  "kernelspec": {
   "display_name": "Python 3",
   "language": "python",
   "name": "python3"
  },
  "language_info": {
   "codemirror_mode": {
    "name": "ipython",
    "version": 3
   },
   "file_extension": ".py",
   "mimetype": "text/x-python",
   "name": "python",
   "nbconvert_exporter": "python",
   "pygments_lexer": "ipython3",
   "version": "3.8.5"
  }
 },
 "nbformat": 4,
 "nbformat_minor": 4
}
